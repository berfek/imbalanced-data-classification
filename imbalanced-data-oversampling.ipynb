{
  "cells": [
    {
      "cell_type": "markdown",
      "source": [
        "# **Binary Classification for Imbalanced Data**"
      ],
      "metadata": {
        "id": "z3Pq_Re4b2cC"
      }
    },
    {
      "cell_type": "markdown",
      "source": [
        "I have data on 31K historical train records spanning over a period of 3 days. I need to create a model for classification. \"Delayed\" feature is a binary target column, 0 indicates \"No Delay\" and \"1\" indicates \"Delay\".  \n",
        "\n",
        "First, since the dataset is in nested format, I normalized \"Stop\" feature and included \"Headcode\" from the columns.\n",
        ""
      ],
      "metadata": {
        "id": "tCOg6gw4b8oz"
      }
    },
    {
      "cell_type": "code",
      "source": [
        "import pandas as pd\n",
        "import numpy as np\n",
        "from sklearn.model_selection import train_test_split\n",
        "from sklearn.utils.class_weight import compute_class_weight\n",
        "from sklearn.ensemble import RandomForestClassifier\n",
        "from sklearn.calibration import CalibratedClassifierCV\n",
        "from sklearn.model_selection import StratifiedKFold, train_test_split, GridSearchCV\n",
        "from sklearn.metrics import classification_report\n",
        "import json"
      ],
      "metadata": {
        "id": "L0BzD4rcj86u"
      },
      "execution_count": 122,
      "outputs": []
    },
    {
      "cell_type": "markdown",
      "source": [
        "Read historical dataset:"
      ],
      "metadata": {
        "id": "fejcUFddp8D4"
      }
    },
    {
      "cell_type": "code",
      "execution_count": 14,
      "metadata": {
        "id": "OJ3PYZ0WVtZT"
      },
      "outputs": [],
      "source": [
        "with open('./raildataset.json','r') as f:\n",
        "    data = json.loads(f.read())\n"
      ]
    },
    {
      "cell_type": "code",
      "execution_count": 17,
      "metadata": {
        "id": "4vd7vw8ZWnQV"
      },
      "outputs": [],
      "source": [
        "normalized_df = pd.json_normalize(\n",
        "    data,\n",
        "    record_path=['Stops'],\n",
        "    meta=['Headcode'], errors='ignore'\n",
        ")\n"
      ]
    },
    {
      "cell_type": "code",
      "execution_count": 18,
      "metadata": {
        "colab": {
          "base_uri": "https://localhost:8080/"
        },
        "id": "DB4MVGwjnUgN",
        "outputId": "7e3f6cda-f98b-4cf8-b468-27921385c5c3"
      },
      "outputs": [
        {
          "output_type": "stream",
          "name": "stdout",
          "text": [
            "<class 'pandas.core.frame.DataFrame'>\n",
            "RangeIndex: 31727 entries, 0 to 31726\n",
            "Data columns (total 18 columns):\n",
            " #   Column                       Non-Null Count  Dtype \n",
            "---  ------                       --------------  ----- \n",
            " 0   Name                         31727 non-null  object\n",
            " 1   Crs                          31727 non-null  object\n",
            " 2   Tiploc                       31727 non-null  object\n",
            " 3   DwellBooked                  31727 non-null  int64 \n",
            " 4   DwellActual                  31727 non-null  int64 \n",
            " 5   DepartureDiff                31727 non-null  int64 \n",
            " 6   ArrivalDiff                  31727 non-null  int64 \n",
            " 7   DwellDiff                    31727 non-null  int64 \n",
            " 8   StationNumber                31727 non-null  int64 \n",
            " 9   UntilNextLocationActualTime  31727 non-null  int64 \n",
            " 10  UntilNextLocationBookedTime  31727 non-null  int64 \n",
            " 11  UntilNextLocationTimeDiff    31727 non-null  int64 \n",
            " 12  Delayed                      31727 non-null  int64 \n",
            " 13  BookedDeparture.$date        31727 non-null  object\n",
            " 14  BookedArrival.$date          31727 non-null  object\n",
            " 15  ActualDeparture.$date        31727 non-null  object\n",
            " 16  ActualArrival.$date          31727 non-null  object\n",
            " 17  Headcode                     31727 non-null  object\n",
            "dtypes: int64(10), object(8)\n",
            "memory usage: 4.4+ MB\n",
            "None\n"
          ]
        }
      ],
      "source": [
        "print(normalized_df.info())\n"
      ]
    },
    {
      "cell_type": "markdown",
      "source": [
        "Read coordinates dataset and merge it with historical:"
      ],
      "metadata": {
        "id": "dFcngKalp_Ah"
      }
    },
    {
      "cell_type": "code",
      "source": [
        "with open('./station_coordinates5.json','r') as f:\n",
        "    coordinates = json.loads(f.read())"
      ],
      "metadata": {
        "id": "pZmis-5KpoX-"
      },
      "execution_count": 82,
      "outputs": []
    },
    {
      "cell_type": "code",
      "source": [
        "dfcoord = pd.json_normalize(\n",
        "    coordinates,\n",
        "    record_path=['stations'],\n",
        "    errors='ignore'\n",
        ")\n",
        "dfcoord.head()"
      ],
      "metadata": {
        "colab": {
          "base_uri": "https://localhost:8080/",
          "height": 201
        },
        "id": "9vYJ3F99puqS",
        "outputId": "2033d92b-8825-410f-a1cd-3e054315ad2d"
      },
      "execution_count": 83,
      "outputs": [
        {
          "output_type": "execute_result",
          "data": {
            "text/plain": [
              "               name      X       Y  crs\n",
              "0     Hildenborough  0.229  51.215  HLB\n",
              "1             Swale  0.746  51.389  SWL\n",
              "2           Kemsley  0.735  51.361  KML\n",
              "3  Sheerness-on-Sea  0.758  51.441  SSS\n",
              "4      Queenborough   0.75  51.416  QBR"
            ],
            "text/html": [
              "\n",
              "  <div id=\"df-eb266eb9-3a6f-42bf-b5d3-3542aa9b76c0\" class=\"colab-df-container\">\n",
              "    <div>\n",
              "<style scoped>\n",
              "    .dataframe tbody tr th:only-of-type {\n",
              "        vertical-align: middle;\n",
              "    }\n",
              "\n",
              "    .dataframe tbody tr th {\n",
              "        vertical-align: top;\n",
              "    }\n",
              "\n",
              "    .dataframe thead th {\n",
              "        text-align: right;\n",
              "    }\n",
              "</style>\n",
              "<table border=\"1\" class=\"dataframe\">\n",
              "  <thead>\n",
              "    <tr style=\"text-align: right;\">\n",
              "      <th></th>\n",
              "      <th>name</th>\n",
              "      <th>X</th>\n",
              "      <th>Y</th>\n",
              "      <th>crs</th>\n",
              "    </tr>\n",
              "  </thead>\n",
              "  <tbody>\n",
              "    <tr>\n",
              "      <th>0</th>\n",
              "      <td>Hildenborough</td>\n",
              "      <td>0.229</td>\n",
              "      <td>51.215</td>\n",
              "      <td>HLB</td>\n",
              "    </tr>\n",
              "    <tr>\n",
              "      <th>1</th>\n",
              "      <td>Swale</td>\n",
              "      <td>0.746</td>\n",
              "      <td>51.389</td>\n",
              "      <td>SWL</td>\n",
              "    </tr>\n",
              "    <tr>\n",
              "      <th>2</th>\n",
              "      <td>Kemsley</td>\n",
              "      <td>0.735</td>\n",
              "      <td>51.361</td>\n",
              "      <td>KML</td>\n",
              "    </tr>\n",
              "    <tr>\n",
              "      <th>3</th>\n",
              "      <td>Sheerness-on-Sea</td>\n",
              "      <td>0.758</td>\n",
              "      <td>51.441</td>\n",
              "      <td>SSS</td>\n",
              "    </tr>\n",
              "    <tr>\n",
              "      <th>4</th>\n",
              "      <td>Queenborough</td>\n",
              "      <td>0.75</td>\n",
              "      <td>51.416</td>\n",
              "      <td>QBR</td>\n",
              "    </tr>\n",
              "  </tbody>\n",
              "</table>\n",
              "</div>\n",
              "    <div class=\"colab-df-buttons\">\n",
              "\n",
              "  <div class=\"colab-df-container\">\n",
              "    <button class=\"colab-df-convert\" onclick=\"convertToInteractive('df-eb266eb9-3a6f-42bf-b5d3-3542aa9b76c0')\"\n",
              "            title=\"Convert this dataframe to an interactive table.\"\n",
              "            style=\"display:none;\">\n",
              "\n",
              "  <svg xmlns=\"http://www.w3.org/2000/svg\" height=\"24px\" viewBox=\"0 -960 960 960\">\n",
              "    <path d=\"M120-120v-720h720v720H120Zm60-500h600v-160H180v160Zm220 220h160v-160H400v160Zm0 220h160v-160H400v160ZM180-400h160v-160H180v160Zm440 0h160v-160H620v160ZM180-180h160v-160H180v160Zm440 0h160v-160H620v160Z\"/>\n",
              "  </svg>\n",
              "    </button>\n",
              "\n",
              "  <style>\n",
              "    .colab-df-container {\n",
              "      display:flex;\n",
              "      gap: 12px;\n",
              "    }\n",
              "\n",
              "    .colab-df-convert {\n",
              "      background-color: #E8F0FE;\n",
              "      border: none;\n",
              "      border-radius: 50%;\n",
              "      cursor: pointer;\n",
              "      display: none;\n",
              "      fill: #1967D2;\n",
              "      height: 32px;\n",
              "      padding: 0 0 0 0;\n",
              "      width: 32px;\n",
              "    }\n",
              "\n",
              "    .colab-df-convert:hover {\n",
              "      background-color: #E2EBFA;\n",
              "      box-shadow: 0px 1px 2px rgba(60, 64, 67, 0.3), 0px 1px 3px 1px rgba(60, 64, 67, 0.15);\n",
              "      fill: #174EA6;\n",
              "    }\n",
              "\n",
              "    .colab-df-buttons div {\n",
              "      margin-bottom: 4px;\n",
              "    }\n",
              "\n",
              "    [theme=dark] .colab-df-convert {\n",
              "      background-color: #3B4455;\n",
              "      fill: #D2E3FC;\n",
              "    }\n",
              "\n",
              "    [theme=dark] .colab-df-convert:hover {\n",
              "      background-color: #434B5C;\n",
              "      box-shadow: 0px 1px 3px 1px rgba(0, 0, 0, 0.15);\n",
              "      filter: drop-shadow(0px 1px 2px rgba(0, 0, 0, 0.3));\n",
              "      fill: #FFFFFF;\n",
              "    }\n",
              "  </style>\n",
              "\n",
              "    <script>\n",
              "      const buttonEl =\n",
              "        document.querySelector('#df-eb266eb9-3a6f-42bf-b5d3-3542aa9b76c0 button.colab-df-convert');\n",
              "      buttonEl.style.display =\n",
              "        google.colab.kernel.accessAllowed ? 'block' : 'none';\n",
              "\n",
              "      async function convertToInteractive(key) {\n",
              "        const element = document.querySelector('#df-eb266eb9-3a6f-42bf-b5d3-3542aa9b76c0');\n",
              "        const dataTable =\n",
              "          await google.colab.kernel.invokeFunction('convertToInteractive',\n",
              "                                                    [key], {});\n",
              "        if (!dataTable) return;\n",
              "\n",
              "        const docLinkHtml = 'Like what you see? Visit the ' +\n",
              "          '<a target=\"_blank\" href=https://colab.research.google.com/notebooks/data_table.ipynb>data table notebook</a>'\n",
              "          + ' to learn more about interactive tables.';\n",
              "        element.innerHTML = '';\n",
              "        dataTable['output_type'] = 'display_data';\n",
              "        await google.colab.output.renderOutput(dataTable, element);\n",
              "        const docLink = document.createElement('div');\n",
              "        docLink.innerHTML = docLinkHtml;\n",
              "        element.appendChild(docLink);\n",
              "      }\n",
              "    </script>\n",
              "  </div>\n",
              "\n",
              "\n",
              "<div id=\"df-ac2171db-404e-42dc-9add-123a3f6de005\">\n",
              "  <button class=\"colab-df-quickchart\" onclick=\"quickchart('df-ac2171db-404e-42dc-9add-123a3f6de005')\"\n",
              "            title=\"Suggest charts.\"\n",
              "            style=\"display:none;\">\n",
              "\n",
              "<svg xmlns=\"http://www.w3.org/2000/svg\" height=\"24px\"viewBox=\"0 0 24 24\"\n",
              "     width=\"24px\">\n",
              "    <g>\n",
              "        <path d=\"M19 3H5c-1.1 0-2 .9-2 2v14c0 1.1.9 2 2 2h14c1.1 0 2-.9 2-2V5c0-1.1-.9-2-2-2zM9 17H7v-7h2v7zm4 0h-2V7h2v10zm4 0h-2v-4h2v4z\"/>\n",
              "    </g>\n",
              "</svg>\n",
              "  </button>\n",
              "\n",
              "<style>\n",
              "  .colab-df-quickchart {\n",
              "    background-color: #E8F0FE;\n",
              "    border: none;\n",
              "    border-radius: 50%;\n",
              "    cursor: pointer;\n",
              "    display: none;\n",
              "    fill: #1967D2;\n",
              "    height: 32px;\n",
              "    padding: 0 0 0 0;\n",
              "    width: 32px;\n",
              "  }\n",
              "\n",
              "  .colab-df-quickchart:hover {\n",
              "    background-color: #E2EBFA;\n",
              "    box-shadow: 0px 1px 2px rgba(60, 64, 67, 0.3), 0px 1px 3px 1px rgba(60, 64, 67, 0.15);\n",
              "    fill: #174EA6;\n",
              "  }\n",
              "\n",
              "  [theme=dark] .colab-df-quickchart {\n",
              "    background-color: #3B4455;\n",
              "    fill: #D2E3FC;\n",
              "  }\n",
              "\n",
              "  [theme=dark] .colab-df-quickchart:hover {\n",
              "    background-color: #434B5C;\n",
              "    box-shadow: 0px 1px 3px 1px rgba(0, 0, 0, 0.15);\n",
              "    filter: drop-shadow(0px 1px 2px rgba(0, 0, 0, 0.3));\n",
              "    fill: #FFFFFF;\n",
              "  }\n",
              "</style>\n",
              "\n",
              "  <script>\n",
              "    async function quickchart(key) {\n",
              "      const charts = await google.colab.kernel.invokeFunction(\n",
              "          'suggestCharts', [key], {});\n",
              "    }\n",
              "    (() => {\n",
              "      let quickchartButtonEl =\n",
              "        document.querySelector('#df-ac2171db-404e-42dc-9add-123a3f6de005 button');\n",
              "      quickchartButtonEl.style.display =\n",
              "        google.colab.kernel.accessAllowed ? 'block' : 'none';\n",
              "    })();\n",
              "  </script>\n",
              "</div>\n",
              "    </div>\n",
              "  </div>\n"
            ]
          },
          "metadata": {},
          "execution_count": 83
        }
      ]
    },
    {
      "cell_type": "code",
      "source": [
        "dfcoord.rename(columns={\"crs\": \"CRS\"}, inplace=True)\n",
        "normalized_df.rename(columns={\"Crs\": \"CRS\"}, inplace=True)"
      ],
      "metadata": {
        "id": "QxQtZS0Npw5y"
      },
      "execution_count": 85,
      "outputs": []
    },
    {
      "cell_type": "code",
      "source": [
        "normalized_df = pd.merge(normalized_df, dfcoord, on='CRS', how='left')\n"
      ],
      "metadata": {
        "id": "S14JKSBNp6rR"
      },
      "execution_count": 88,
      "outputs": []
    },
    {
      "cell_type": "markdown",
      "source": [
        "Eliminated null values from the dataset:\n"
      ],
      "metadata": {
        "id": "6lzoob8LqwKi"
      }
    },
    {
      "cell_type": "code",
      "source": [
        "normalized_df = normalized_df.dropna()\n"
      ],
      "metadata": {
        "id": "7gG1A_Dvqsvf"
      },
      "execution_count": 106,
      "outputs": []
    },
    {
      "cell_type": "markdown",
      "source": [
        "Eliminated null date values:"
      ],
      "metadata": {
        "id": "EhKQq1Wgmisy"
      }
    },
    {
      "cell_type": "code",
      "source": [
        "normalized_df = normalized_df[\n",
        "    (normalized_df['ActualDeparture.$date'] != '0001-01-03T00:00:00.000Z') &\n",
        "    (normalized_df['ActualArrival.$date'] != '0001-01-03T00:00:00.000Z')\n",
        "]"
      ],
      "metadata": {
        "id": "7bp_xcoZmdRq"
      },
      "execution_count": 108,
      "outputs": []
    },
    {
      "cell_type": "markdown",
      "source": [
        "Converted date columns to date format since they are in object format now:"
      ],
      "metadata": {
        "id": "frsMIYRammgF"
      }
    },
    {
      "cell_type": "code",
      "source": [
        "normalized_df['BookedArrival.$date'] = pd.to_datetime(normalized_df['BookedArrival.$date'])"
      ],
      "metadata": {
        "id": "s_V1wFqul-eG"
      },
      "execution_count": 109,
      "outputs": []
    },
    {
      "cell_type": "markdown",
      "source": [
        "Created sin_time and cos_time features as the nature of date is cyclical (To explore more about cyclical features, check my work \"Encoding cyclical features\"):"
      ],
      "metadata": {
        "id": "DmzroBRsm2pD"
      }
    },
    {
      "cell_type": "code",
      "source": [
        "normalized_df['hour'] = normalized_df['BookedArrival.$date'].dt.hour\n",
        "normalized_df['minute'] = normalized_df['BookedArrival.$date'].dt.minute\n",
        "normalized_df['second'] = normalized_df['BookedArrival.$date'].dt.second\n",
        "normalized_df['hourfloat']=normalized_df.hour+normalized_df.minute/60.0+ normalized_df.second/3600.0\n",
        "\n",
        "normalized_df['sin_time']=np.sin(2.*np.pi*normalized_df.hourfloat/24.)\n",
        "normalized_df['cos_time']=np.cos(2.*np.pi*normalized_df.hourfloat/24.)"
      ],
      "metadata": {
        "id": "6v7P3N1FlVCt"
      },
      "execution_count": 110,
      "outputs": []
    },
    {
      "cell_type": "markdown",
      "source": [
        "Created day_of_week and encoded it to use as an input value in classification:"
      ],
      "metadata": {
        "id": "vkIXnURynOZ7"
      }
    },
    {
      "cell_type": "code",
      "source": [
        "normalized_df['day_of_week'] = normalized_df['BookedArrival.$date'].dt.day_name()\n",
        "\n",
        "lblEncoder_day = LabelEncoder()\n",
        "normalized_df['day_of_week'] = lblEncoder_day.fit_transform(normalized_df['day_of_week'])\n",
        "print(lblEncoder_day.classes_)\n",
        "print(lblEncoder_day.transform(lblEncoder_day.classes_))"
      ],
      "metadata": {
        "colab": {
          "base_uri": "https://localhost:8080/"
        },
        "id": "DqtcDpJbnNVo",
        "outputId": "4ab628c9-ef55-4788-901e-be7d52cfde8e"
      },
      "execution_count": 111,
      "outputs": [
        {
          "output_type": "stream",
          "name": "stdout",
          "text": [
            "['Monday' 'Thursday' 'Tuesday' 'Wednesday']\n",
            "[0 1 2 3]\n"
          ]
        }
      ]
    },
    {
      "cell_type": "markdown",
      "source": [
        "Check class weights:"
      ],
      "metadata": {
        "id": "nxEWpQ-rf4-W"
      }
    },
    {
      "cell_type": "code",
      "source": [
        "target_counts = normalized_df['Delayed'].value_counts()\n",
        "\n",
        "print(target_counts)"
      ],
      "metadata": {
        "colab": {
          "base_uri": "https://localhost:8080/"
        },
        "id": "Vg-34t4-iprT",
        "outputId": "211a45b9-5825-48cc-e932-4105e70ebe64"
      },
      "execution_count": 112,
      "outputs": [
        {
          "output_type": "stream",
          "name": "stdout",
          "text": [
            "0    16550\n",
            "1    10872\n",
            "Name: Delayed, dtype: int64\n"
          ]
        }
      ]
    },
    {
      "cell_type": "markdown",
      "source": [
        "I used \"compute_class_weight\" function from scikit-learn, which calculates class weights. A lower weight assigned to a class implies its greater prevalence, while a higher weight signifies a less frequent class occurrence."
      ],
      "metadata": {
        "id": "HhGKQSSJjj9-"
      }
    },
    {
      "cell_type": "code",
      "source": [
        "normalized_df['Delayed'] = normalized_df['Delayed'].astype(int)\n",
        "\n",
        "class_weights = compute_class_weight('balanced', classes=normalized_df['Delayed'].unique(), y=normalized_df['Delayed'])\n",
        "\n",
        "class_weights_dict = dict(zip(normalized_df['Delayed'].unique(), class_weights))\n",
        "\n",
        "print(\"Class Weights:\")\n",
        "print(class_weights_dict)"
      ],
      "metadata": {
        "colab": {
          "base_uri": "https://localhost:8080/"
        },
        "id": "0kETyjP4fz5A",
        "outputId": "879c31d4-aab2-41e9-b161-976531a299cb"
      },
      "execution_count": 113,
      "outputs": [
        {
          "output_type": "stream",
          "name": "stdout",
          "text": [
            "Class Weights:\n",
            "{1: 1.2611295069904342, 0: 0.8284592145015106}\n"
          ]
        }
      ]
    },
    {
      "cell_type": "markdown",
      "source": [
        "As we see, the target value is quite imbalanced.  As evident from the output, class 1 is minority, while class 0 is majority. This implies that the model will be more penalized for misclassifying samples of class 1. The goal is to balance the impact of the minority class (class 1) against the majority class (class 0), allowing the model to learn to distinguish both classes effectively."
      ],
      "metadata": {
        "id": "wZ5Td06-iGxb"
      }
    },
    {
      "cell_type": "markdown",
      "source": [
        "To address this imbalance, I performed a technique called Random Over-sampling to generate additional samples for the minority classes, thereby equalizing the instance counts across all classes"
      ],
      "metadata": {
        "id": "dLZlZROMjXEv"
      }
    },
    {
      "cell_type": "code",
      "source": [
        "pip install imbalanced-learn\n"
      ],
      "metadata": {
        "colab": {
          "base_uri": "https://localhost:8080/"
        },
        "id": "x-vyJsY0gFmM",
        "outputId": "354730cc-fe24-4fbd-c13b-6dfdd41bd73d"
      },
      "execution_count": 114,
      "outputs": [
        {
          "output_type": "stream",
          "name": "stdout",
          "text": [
            "Requirement already satisfied: imbalanced-learn in /usr/local/lib/python3.10/dist-packages (0.10.1)\n",
            "Requirement already satisfied: numpy>=1.17.3 in /usr/local/lib/python3.10/dist-packages (from imbalanced-learn) (1.23.5)\n",
            "Requirement already satisfied: scipy>=1.3.2 in /usr/local/lib/python3.10/dist-packages (from imbalanced-learn) (1.10.1)\n",
            "Requirement already satisfied: scikit-learn>=1.0.2 in /usr/local/lib/python3.10/dist-packages (from imbalanced-learn) (1.2.2)\n",
            "Requirement already satisfied: joblib>=1.1.1 in /usr/local/lib/python3.10/dist-packages (from imbalanced-learn) (1.3.2)\n",
            "Requirement already satisfied: threadpoolctl>=2.0.0 in /usr/local/lib/python3.10/dist-packages (from imbalanced-learn) (3.2.0)\n"
          ]
        }
      ]
    },
    {
      "cell_type": "code",
      "source": [
        "normalized_df.head()"
      ],
      "metadata": {
        "colab": {
          "base_uri": "https://localhost:8080/",
          "height": 282
        },
        "id": "DH6lZLMVqLZV",
        "outputId": "548c1ae9-b375-47a0-afe9-8b5c5d4af83e"
      },
      "execution_count": 115,
      "outputs": [
        {
          "output_type": "execute_result",
          "data": {
            "text/plain": [
              "            Name  CRS   Tiploc  DwellBooked  DwellActual  DepartureDiff  \\\n",
              "0  London Bridge  LBG  LNDNBDE           60           44             44   \n",
              "1        Swanley  SAY     SWLY           30           39             39   \n",
              "2         Otford  OTF   OTFORD           30           37             94   \n",
              "3  London Bridge  LBG  LNDNBDE           60           44             45   \n",
              "4        Swanley  SAY     SWLY           30           39             39   \n",
              "\n",
              "   ArrivalDiff  DwellDiff  StationNumber  UntilNextLocationActualTime  ...  \\\n",
              "0           60        -16              2                         1306  ...   \n",
              "1           30          9              3                          468  ...   \n",
              "2           87          7              4                          418  ...   \n",
              "3           61        -16              2                         1305  ...   \n",
              "4           30          9              3                          469  ...   \n",
              "\n",
              "   second  hourfloat  sin_time  cos_time         name_x     X_x     Y_x  \\\n",
              "0       0  23.633333 -0.095846  0.995396  London Bridge  -0.086  51.503   \n",
              "1       0   0.016667  0.004363  0.999990        Swanley   0.168  51.393   \n",
              "2      30   0.141667  0.037080  0.999312         Otford   0.197  51.313   \n",
              "3       0  23.633333 -0.095846  0.995396  London Bridge  -0.086  51.503   \n",
              "4       0   0.016667  0.004363  0.999990        Swanley   0.168  51.393   \n",
              "\n",
              "          name_y     X_y     Y_y  \n",
              "0  London Bridge  -0.086  51.503  \n",
              "1        Swanley   0.168  51.393  \n",
              "2         Otford   0.197  51.313  \n",
              "3  London Bridge  -0.086  51.503  \n",
              "4        Swanley   0.168  51.393  \n",
              "\n",
              "[5 rows x 32 columns]"
            ],
            "text/html": [
              "\n",
              "  <div id=\"df-11198c6e-f417-404a-82f0-6543b72da662\" class=\"colab-df-container\">\n",
              "    <div>\n",
              "<style scoped>\n",
              "    .dataframe tbody tr th:only-of-type {\n",
              "        vertical-align: middle;\n",
              "    }\n",
              "\n",
              "    .dataframe tbody tr th {\n",
              "        vertical-align: top;\n",
              "    }\n",
              "\n",
              "    .dataframe thead th {\n",
              "        text-align: right;\n",
              "    }\n",
              "</style>\n",
              "<table border=\"1\" class=\"dataframe\">\n",
              "  <thead>\n",
              "    <tr style=\"text-align: right;\">\n",
              "      <th></th>\n",
              "      <th>Name</th>\n",
              "      <th>CRS</th>\n",
              "      <th>Tiploc</th>\n",
              "      <th>DwellBooked</th>\n",
              "      <th>DwellActual</th>\n",
              "      <th>DepartureDiff</th>\n",
              "      <th>ArrivalDiff</th>\n",
              "      <th>DwellDiff</th>\n",
              "      <th>StationNumber</th>\n",
              "      <th>UntilNextLocationActualTime</th>\n",
              "      <th>...</th>\n",
              "      <th>second</th>\n",
              "      <th>hourfloat</th>\n",
              "      <th>sin_time</th>\n",
              "      <th>cos_time</th>\n",
              "      <th>name_x</th>\n",
              "      <th>X_x</th>\n",
              "      <th>Y_x</th>\n",
              "      <th>name_y</th>\n",
              "      <th>X_y</th>\n",
              "      <th>Y_y</th>\n",
              "    </tr>\n",
              "  </thead>\n",
              "  <tbody>\n",
              "    <tr>\n",
              "      <th>0</th>\n",
              "      <td>London Bridge</td>\n",
              "      <td>LBG</td>\n",
              "      <td>LNDNBDE</td>\n",
              "      <td>60</td>\n",
              "      <td>44</td>\n",
              "      <td>44</td>\n",
              "      <td>60</td>\n",
              "      <td>-16</td>\n",
              "      <td>2</td>\n",
              "      <td>1306</td>\n",
              "      <td>...</td>\n",
              "      <td>0</td>\n",
              "      <td>23.633333</td>\n",
              "      <td>-0.095846</td>\n",
              "      <td>0.995396</td>\n",
              "      <td>London Bridge</td>\n",
              "      <td>-0.086</td>\n",
              "      <td>51.503</td>\n",
              "      <td>London Bridge</td>\n",
              "      <td>-0.086</td>\n",
              "      <td>51.503</td>\n",
              "    </tr>\n",
              "    <tr>\n",
              "      <th>1</th>\n",
              "      <td>Swanley</td>\n",
              "      <td>SAY</td>\n",
              "      <td>SWLY</td>\n",
              "      <td>30</td>\n",
              "      <td>39</td>\n",
              "      <td>39</td>\n",
              "      <td>30</td>\n",
              "      <td>9</td>\n",
              "      <td>3</td>\n",
              "      <td>468</td>\n",
              "      <td>...</td>\n",
              "      <td>0</td>\n",
              "      <td>0.016667</td>\n",
              "      <td>0.004363</td>\n",
              "      <td>0.999990</td>\n",
              "      <td>Swanley</td>\n",
              "      <td>0.168</td>\n",
              "      <td>51.393</td>\n",
              "      <td>Swanley</td>\n",
              "      <td>0.168</td>\n",
              "      <td>51.393</td>\n",
              "    </tr>\n",
              "    <tr>\n",
              "      <th>2</th>\n",
              "      <td>Otford</td>\n",
              "      <td>OTF</td>\n",
              "      <td>OTFORD</td>\n",
              "      <td>30</td>\n",
              "      <td>37</td>\n",
              "      <td>94</td>\n",
              "      <td>87</td>\n",
              "      <td>7</td>\n",
              "      <td>4</td>\n",
              "      <td>418</td>\n",
              "      <td>...</td>\n",
              "      <td>30</td>\n",
              "      <td>0.141667</td>\n",
              "      <td>0.037080</td>\n",
              "      <td>0.999312</td>\n",
              "      <td>Otford</td>\n",
              "      <td>0.197</td>\n",
              "      <td>51.313</td>\n",
              "      <td>Otford</td>\n",
              "      <td>0.197</td>\n",
              "      <td>51.313</td>\n",
              "    </tr>\n",
              "    <tr>\n",
              "      <th>3</th>\n",
              "      <td>London Bridge</td>\n",
              "      <td>LBG</td>\n",
              "      <td>LNDNBDE</td>\n",
              "      <td>60</td>\n",
              "      <td>44</td>\n",
              "      <td>45</td>\n",
              "      <td>61</td>\n",
              "      <td>-16</td>\n",
              "      <td>2</td>\n",
              "      <td>1305</td>\n",
              "      <td>...</td>\n",
              "      <td>0</td>\n",
              "      <td>23.633333</td>\n",
              "      <td>-0.095846</td>\n",
              "      <td>0.995396</td>\n",
              "      <td>London Bridge</td>\n",
              "      <td>-0.086</td>\n",
              "      <td>51.503</td>\n",
              "      <td>London Bridge</td>\n",
              "      <td>-0.086</td>\n",
              "      <td>51.503</td>\n",
              "    </tr>\n",
              "    <tr>\n",
              "      <th>4</th>\n",
              "      <td>Swanley</td>\n",
              "      <td>SAY</td>\n",
              "      <td>SWLY</td>\n",
              "      <td>30</td>\n",
              "      <td>39</td>\n",
              "      <td>39</td>\n",
              "      <td>30</td>\n",
              "      <td>9</td>\n",
              "      <td>3</td>\n",
              "      <td>469</td>\n",
              "      <td>...</td>\n",
              "      <td>0</td>\n",
              "      <td>0.016667</td>\n",
              "      <td>0.004363</td>\n",
              "      <td>0.999990</td>\n",
              "      <td>Swanley</td>\n",
              "      <td>0.168</td>\n",
              "      <td>51.393</td>\n",
              "      <td>Swanley</td>\n",
              "      <td>0.168</td>\n",
              "      <td>51.393</td>\n",
              "    </tr>\n",
              "  </tbody>\n",
              "</table>\n",
              "<p>5 rows × 32 columns</p>\n",
              "</div>\n",
              "    <div class=\"colab-df-buttons\">\n",
              "\n",
              "  <div class=\"colab-df-container\">\n",
              "    <button class=\"colab-df-convert\" onclick=\"convertToInteractive('df-11198c6e-f417-404a-82f0-6543b72da662')\"\n",
              "            title=\"Convert this dataframe to an interactive table.\"\n",
              "            style=\"display:none;\">\n",
              "\n",
              "  <svg xmlns=\"http://www.w3.org/2000/svg\" height=\"24px\" viewBox=\"0 -960 960 960\">\n",
              "    <path d=\"M120-120v-720h720v720H120Zm60-500h600v-160H180v160Zm220 220h160v-160H400v160Zm0 220h160v-160H400v160ZM180-400h160v-160H180v160Zm440 0h160v-160H620v160ZM180-180h160v-160H180v160Zm440 0h160v-160H620v160Z\"/>\n",
              "  </svg>\n",
              "    </button>\n",
              "\n",
              "  <style>\n",
              "    .colab-df-container {\n",
              "      display:flex;\n",
              "      gap: 12px;\n",
              "    }\n",
              "\n",
              "    .colab-df-convert {\n",
              "      background-color: #E8F0FE;\n",
              "      border: none;\n",
              "      border-radius: 50%;\n",
              "      cursor: pointer;\n",
              "      display: none;\n",
              "      fill: #1967D2;\n",
              "      height: 32px;\n",
              "      padding: 0 0 0 0;\n",
              "      width: 32px;\n",
              "    }\n",
              "\n",
              "    .colab-df-convert:hover {\n",
              "      background-color: #E2EBFA;\n",
              "      box-shadow: 0px 1px 2px rgba(60, 64, 67, 0.3), 0px 1px 3px 1px rgba(60, 64, 67, 0.15);\n",
              "      fill: #174EA6;\n",
              "    }\n",
              "\n",
              "    .colab-df-buttons div {\n",
              "      margin-bottom: 4px;\n",
              "    }\n",
              "\n",
              "    [theme=dark] .colab-df-convert {\n",
              "      background-color: #3B4455;\n",
              "      fill: #D2E3FC;\n",
              "    }\n",
              "\n",
              "    [theme=dark] .colab-df-convert:hover {\n",
              "      background-color: #434B5C;\n",
              "      box-shadow: 0px 1px 3px 1px rgba(0, 0, 0, 0.15);\n",
              "      filter: drop-shadow(0px 1px 2px rgba(0, 0, 0, 0.3));\n",
              "      fill: #FFFFFF;\n",
              "    }\n",
              "  </style>\n",
              "\n",
              "    <script>\n",
              "      const buttonEl =\n",
              "        document.querySelector('#df-11198c6e-f417-404a-82f0-6543b72da662 button.colab-df-convert');\n",
              "      buttonEl.style.display =\n",
              "        google.colab.kernel.accessAllowed ? 'block' : 'none';\n",
              "\n",
              "      async function convertToInteractive(key) {\n",
              "        const element = document.querySelector('#df-11198c6e-f417-404a-82f0-6543b72da662');\n",
              "        const dataTable =\n",
              "          await google.colab.kernel.invokeFunction('convertToInteractive',\n",
              "                                                    [key], {});\n",
              "        if (!dataTable) return;\n",
              "\n",
              "        const docLinkHtml = 'Like what you see? Visit the ' +\n",
              "          '<a target=\"_blank\" href=https://colab.research.google.com/notebooks/data_table.ipynb>data table notebook</a>'\n",
              "          + ' to learn more about interactive tables.';\n",
              "        element.innerHTML = '';\n",
              "        dataTable['output_type'] = 'display_data';\n",
              "        await google.colab.output.renderOutput(dataTable, element);\n",
              "        const docLink = document.createElement('div');\n",
              "        docLink.innerHTML = docLinkHtml;\n",
              "        element.appendChild(docLink);\n",
              "      }\n",
              "    </script>\n",
              "  </div>\n",
              "\n",
              "\n",
              "<div id=\"df-7bd3a1eb-e51f-4bf4-9137-d6c9250e79d4\">\n",
              "  <button class=\"colab-df-quickchart\" onclick=\"quickchart('df-7bd3a1eb-e51f-4bf4-9137-d6c9250e79d4')\"\n",
              "            title=\"Suggest charts.\"\n",
              "            style=\"display:none;\">\n",
              "\n",
              "<svg xmlns=\"http://www.w3.org/2000/svg\" height=\"24px\"viewBox=\"0 0 24 24\"\n",
              "     width=\"24px\">\n",
              "    <g>\n",
              "        <path d=\"M19 3H5c-1.1 0-2 .9-2 2v14c0 1.1.9 2 2 2h14c1.1 0 2-.9 2-2V5c0-1.1-.9-2-2-2zM9 17H7v-7h2v7zm4 0h-2V7h2v10zm4 0h-2v-4h2v4z\"/>\n",
              "    </g>\n",
              "</svg>\n",
              "  </button>\n",
              "\n",
              "<style>\n",
              "  .colab-df-quickchart {\n",
              "    background-color: #E8F0FE;\n",
              "    border: none;\n",
              "    border-radius: 50%;\n",
              "    cursor: pointer;\n",
              "    display: none;\n",
              "    fill: #1967D2;\n",
              "    height: 32px;\n",
              "    padding: 0 0 0 0;\n",
              "    width: 32px;\n",
              "  }\n",
              "\n",
              "  .colab-df-quickchart:hover {\n",
              "    background-color: #E2EBFA;\n",
              "    box-shadow: 0px 1px 2px rgba(60, 64, 67, 0.3), 0px 1px 3px 1px rgba(60, 64, 67, 0.15);\n",
              "    fill: #174EA6;\n",
              "  }\n",
              "\n",
              "  [theme=dark] .colab-df-quickchart {\n",
              "    background-color: #3B4455;\n",
              "    fill: #D2E3FC;\n",
              "  }\n",
              "\n",
              "  [theme=dark] .colab-df-quickchart:hover {\n",
              "    background-color: #434B5C;\n",
              "    box-shadow: 0px 1px 3px 1px rgba(0, 0, 0, 0.15);\n",
              "    filter: drop-shadow(0px 1px 2px rgba(0, 0, 0, 0.3));\n",
              "    fill: #FFFFFF;\n",
              "  }\n",
              "</style>\n",
              "\n",
              "  <script>\n",
              "    async function quickchart(key) {\n",
              "      const charts = await google.colab.kernel.invokeFunction(\n",
              "          'suggestCharts', [key], {});\n",
              "    }\n",
              "    (() => {\n",
              "      let quickchartButtonEl =\n",
              "        document.querySelector('#df-7bd3a1eb-e51f-4bf4-9137-d6c9250e79d4 button');\n",
              "      quickchartButtonEl.style.display =\n",
              "        google.colab.kernel.accessAllowed ? 'block' : 'none';\n",
              "    })();\n",
              "  </script>\n",
              "</div>\n",
              "    </div>\n",
              "  </div>\n"
            ]
          },
          "metadata": {},
          "execution_count": 115
        }
      ]
    },
    {
      "cell_type": "code",
      "source": [
        "import pandas as pd\n",
        "from imblearn.over_sampling import RandomOverSampler\n",
        "from sklearn.utils.class_weight import compute_class_weight\n",
        "\n",
        "cols = ['DwellBooked', 'DwellActual', 'StationNumber', 'sin_time', 'cos_time','day_of_week','X_y','Y_y']\n",
        "X = normalized_df[cols]\n",
        "\n",
        "y = normalized_df['Delayed']\n",
        "y = y.to_frame()\n",
        "\n",
        "#Convert 'DelayCategory' column to integers if it's not already\n",
        "y['Delayed'] = y['Delayed'].astype(int)\n",
        "\n",
        "#Apply oversampling\n",
        "oversampler = RandomOverSampler(random_state=42)\n",
        "X_resampled, y_resampled = oversampler.fit_resample(X, y)\n",
        "\n",
        "#Convert the oversampled arrays back to DataFrame\n",
        "X_resampled = pd.DataFrame(X_resampled, columns=cols)\n",
        "y_resampled = pd.DataFrame(y_resampled, columns=['Delayed'])\n",
        "\n",
        "#XCheck the class distribution after oversampling\n",
        "print(\"Class Distribution after Oversampling:\")\n",
        "print(y_resampled['Delayed'].value_counts())\n"
      ],
      "metadata": {
        "colab": {
          "base_uri": "https://localhost:8080/"
        },
        "id": "b9eFm2FYgKYK",
        "outputId": "9381f874-609b-40f7-843d-f9baf95e9876"
      },
      "execution_count": 116,
      "outputs": [
        {
          "output_type": "stream",
          "name": "stdout",
          "text": [
            "Class Distribution after Oversampling:\n",
            "1    16550\n",
            "0    16550\n",
            "Name: Delayed, dtype: int64\n"
          ]
        }
      ]
    },
    {
      "cell_type": "markdown",
      "source": [
        "After training the model using the resampled data, it created a larger dataset consisting of 16,687 for both classes."
      ],
      "metadata": {
        "id": "myqZX4tckbSp"
      }
    },
    {
      "cell_type": "markdown",
      "source": [
        "Split dataset into training and test with the ratio of 0.80 - 0.20:"
      ],
      "metadata": {
        "id": "5izUBY0QoCm2"
      }
    },
    {
      "cell_type": "code",
      "source": [
        "Xtrain, Xtest, ytrain, ytest = train_test_split(\n",
        "    X_resampled, y_resampled, test_size=0.2, stratify=y_resampled, random_state=42\n",
        ")\n",
        "\n"
      ],
      "metadata": {
        "id": "QzNko9xqgsd4"
      },
      "execution_count": 117,
      "outputs": []
    },
    {
      "cell_type": "markdown",
      "source": [
        "Applied Random Forest since it is good when we have imbalanced dataset:"
      ],
      "metadata": {
        "id": "DH6_wx6qoKdY"
      }
    },
    {
      "cell_type": "code",
      "source": [
        "#Evaluating feature importance.\n",
        "clf = RandomForestClassifier(n_estimators=200)\n",
        "clf = clf.fit(Xtrain, ytrain)\n",
        "indices = np.argsort(clf.feature_importances_)[::-1]\n",
        "\n",
        "print('Feature ranking:')\n",
        "\n",
        "for f in range(Xtrain.shape[1]):\n",
        "    print('%d. feature %d %s (%f)' % (f + 1, indices[f], Xtrain.columns[indices[f]],\n",
        "                                      clf.feature_importances_[indices[f]]))"
      ],
      "metadata": {
        "colab": {
          "base_uri": "https://localhost:8080/"
        },
        "id": "wEUSUtlFk8wT",
        "outputId": "dc372958-0716-4f93-9f17-9b6db983de98"
      },
      "execution_count": 118,
      "outputs": [
        {
          "output_type": "stream",
          "name": "stderr",
          "text": [
            "<ipython-input-118-8e8077dcfa2c>:3: DataConversionWarning: A column-vector y was passed when a 1d array was expected. Please change the shape of y to (n_samples,), for example using ravel().\n",
            "  clf = clf.fit(Xtrain, ytrain)\n"
          ]
        },
        {
          "output_type": "stream",
          "name": "stdout",
          "text": [
            "Feature ranking:\n",
            "1. feature 3 sin_time (0.194151)\n",
            "2. feature 1 DwellActual (0.184447)\n",
            "3. feature 4 cos_time (0.176006)\n",
            "4. feature 7 Y_y (0.113438)\n",
            "5. feature 2 StationNumber (0.106189)\n",
            "6. feature 6 X_y (0.105908)\n",
            "7. feature 5 day_of_week (0.079373)\n",
            "8. feature 0 DwellBooked (0.040488)\n"
          ]
        }
      ]
    },
    {
      "cell_type": "markdown",
      "source": [
        "Some features have less importance, however, I don't eliminate them due to the class imbalance, as less important factors could be important for predicting \"1\".\n",
        "\n"
      ],
      "metadata": {
        "id": "GGrS8ThmoYAH"
      }
    },
    {
      "cell_type": "code",
      "source": [
        "clf = RandomForestClassifier(n_estimators=150, n_jobs=-1, criterion = 'gini', max_features = 'sqrt',\n",
        "                             min_samples_split=7, min_weight_fraction_leaf=0.0,\n",
        "                             max_leaf_nodes=40, max_depth=10)\n",
        "\n",
        "calibrated_clf = CalibratedClassifierCV(clf, method='sigmoid', cv=5)\n",
        "calibrated_clf.fit(Xtrain, ytrain)\n",
        "y_val = calibrated_clf.predict_proba(Xtest)"
      ],
      "metadata": {
        "colab": {
          "base_uri": "https://localhost:8080/"
        },
        "id": "W7Vmm9JyguDK",
        "outputId": "4ac14191-cd75-49d4-8491-295880906b1e"
      },
      "execution_count": 119,
      "outputs": [
        {
          "output_type": "stream",
          "name": "stderr",
          "text": [
            "/usr/local/lib/python3.10/dist-packages/sklearn/preprocessing/_label.py:99: DataConversionWarning: A column-vector y was passed when a 1d array was expected. Please change the shape of y to (n_samples, ), for example using ravel().\n",
            "  y = column_or_1d(y, warn=True)\n",
            "/usr/local/lib/python3.10/dist-packages/sklearn/calibration.py:577: DataConversionWarning: A column-vector y was passed when a 1d array was expected. Please change the shape of y to (n_samples,), for example using ravel().\n",
            "  estimator.fit(X_train, y_train, **fit_params_train)\n",
            "/usr/local/lib/python3.10/dist-packages/sklearn/calibration.py:577: DataConversionWarning: A column-vector y was passed when a 1d array was expected. Please change the shape of y to (n_samples,), for example using ravel().\n",
            "  estimator.fit(X_train, y_train, **fit_params_train)\n",
            "/usr/local/lib/python3.10/dist-packages/sklearn/calibration.py:577: DataConversionWarning: A column-vector y was passed when a 1d array was expected. Please change the shape of y to (n_samples,), for example using ravel().\n",
            "  estimator.fit(X_train, y_train, **fit_params_train)\n",
            "/usr/local/lib/python3.10/dist-packages/sklearn/calibration.py:577: DataConversionWarning: A column-vector y was passed when a 1d array was expected. Please change the shape of y to (n_samples,), for example using ravel().\n",
            "  estimator.fit(X_train, y_train, **fit_params_train)\n",
            "/usr/local/lib/python3.10/dist-packages/sklearn/calibration.py:577: DataConversionWarning: A column-vector y was passed when a 1d array was expected. Please change the shape of y to (n_samples,), for example using ravel().\n",
            "  estimator.fit(X_train, y_train, **fit_params_train)\n"
          ]
        }
      ]
    },
    {
      "cell_type": "code",
      "source": [
        "print(classification_report(ytest, pd.DataFrame(y_val).idxmax(axis=1).values, target_names=['0', '1'], digits=4))\n"
      ],
      "metadata": {
        "colab": {
          "base_uri": "https://localhost:8080/"
        },
        "id": "cVPO7o92hjns",
        "outputId": "0d5502d4-c464-403e-f6be-987544eff504"
      },
      "execution_count": 120,
      "outputs": [
        {
          "output_type": "stream",
          "name": "stdout",
          "text": [
            "              precision    recall  f1-score   support\n",
            "\n",
            "           0     0.7217    0.6846    0.7026      3310\n",
            "           1     0.7000    0.7360    0.7175      3310\n",
            "\n",
            "    accuracy                         0.7103      6620\n",
            "   macro avg     0.7108    0.7103    0.7101      6620\n",
            "weighted avg     0.7108    0.7103    0.7101      6620\n",
            "\n"
          ]
        }
      ]
    },
    {
      "cell_type": "markdown",
      "source": [
        "Now we can see that the models give good predictions for both classes, and the overall accuracy is 71%."
      ],
      "metadata": {
        "id": "MhzTmr-9paSe"
      }
    }
  ],
  "metadata": {
    "colab": {
      "provenance": []
    },
    "kernelspec": {
      "display_name": "Python 3",
      "name": "python3"
    },
    "language_info": {
      "name": "python"
    }
  },
  "nbformat": 4,
  "nbformat_minor": 0
}